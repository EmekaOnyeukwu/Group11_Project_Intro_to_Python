{
 "cells": [
  {
   "cell_type": "markdown",
   "id": "0f56a01e",
   "metadata": {},
   "source": [
    "<!DOCTYPE html>\n",
    "<html lang=\"en\">\n",
    "<head>\n",
    "    <meta charset=\"UTF-8\">\n",
    "    <meta name=\"viewport\" content=\"width=device-width, initial-scale=1.0\">\n",
    "    <title>CSV Viewer</title>\n",
    "    <!-- Include Bootstrap CSS for styling -->\n",
    "    <link href=\"https://stackpath.bootstrapcdn.com/bootstrap/4.5.2/css/bootstrap.min.css\" rel=\"stylesheet\">\n",
    "</head>\n",
    "<body>\n",
    "    <div class=\"container mt-5\">\n",
    "        <nav class=\"navbar navbar-expand-lg navbar-light bg-light\">\n",
    "            <a class=\"navbar-brand\" href=\"/\">CSV Viewer</a>\n",
    "            <button class=\"navbar-toggler\" type=\"button\" data-toggle=\"collapse\" data-target=\"#navbarNav\" aria-controls=\"navbarNav\" aria-expanded=\"false\" aria-label=\"Toggle navigation\">\n",
    "                <span class=\"navbar-toggler-icon\"></span>\n",
    "            </button>\n",
    "            <div class=\"collapse navbar-collapse\" id=\"navbarNav\">\n",
    "                <ul class=\"navbar-nav\">\n",
    "                    <li class=\"nav-item active\">\n",
    "                        <a class=\"nav-link\" href=\"/\">Home</a>\n",
    "                    </li>\n",
    "                    <li class=\"nav-item\">\n",
    "                        <a class=\"nav-link\" href=\"/about\">About</a>\n",
    "                    </li>\n",
    "                </ul>\n",
    "            </div>\n",
    "        </nav>\n",
    "\n",
    "        <h1 class=\"mb-4\">CSV Viewer</h1>\n",
    "        <!-- Display the CSV data table -->\n",
    "        {{ table|safe }}\n",
    "    </div>\n",
    "    <!-- Include Bootstrap JS for additional functionality (optional) -->\n",
    "    <script src=\"https://code.jquery.com/jquery-3.5.1.slim.min.js\"></script>\n",
    "    <script src=\"https://cdn.jsdelivr.net/npm/@popperjs/core@2.10.2/dist/umd/popper.min.js\"></script>\n",
    "    <script src=\"https://stackpath.bootstrapcdn.com/bootstrap/4.5.2/js/bootstrap.min.js\"></script>\n",
    "</body>\n",
    "</html>"
   ]
  },
  {
   "cell_type": "code",
   "execution_count": null,
   "id": "3133f52c",
   "metadata": {},
   "outputs": [],
   "source": []
  }
 ],
 "metadata": {
  "kernelspec": {
   "display_name": "Python 3 (ipykernel)",
   "language": "python",
   "name": "python3"
  },
  "language_info": {
   "codemirror_mode": {
    "name": "ipython",
    "version": 3
   },
   "file_extension": ".py",
   "mimetype": "text/x-python",
   "name": "python",
   "nbconvert_exporter": "python",
   "pygments_lexer": "ipython3",
   "version": "3.11.4"
  }
 },
 "nbformat": 4,
 "nbformat_minor": 5
}
