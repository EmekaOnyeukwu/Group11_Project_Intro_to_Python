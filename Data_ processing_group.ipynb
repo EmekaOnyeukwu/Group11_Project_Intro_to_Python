{
 "cells": [
  {
   "cell_type": "code",
   "execution_count": 13,
   "id": "26042ff2",
   "metadata": {},
   "outputs": [],
   "source": [
    "import warnings\n",
    "warnings.filterwarnings(\"ignore\")\n",
    "\n",
    "import numpy as np\n",
    "import pandas as pd\n",
    "import io\n",
    "import requests\n",
    "\n",
    "pd.set_option('display.max_columns', None) \n"
   ]
  },
  {
   "cell_type": "code",
   "execution_count": 14,
   "id": "dade2b6d",
   "metadata": {},
   "outputs": [],
   "source": [
    "books_df = pd.read_csv('non_fiction_books.csv')"
   ]
  },
  {
   "cell_type": "code",
   "execution_count": 15,
   "id": "debea51c",
   "metadata": {},
   "outputs": [
    {
     "data": {
      "text/html": [
       "<div>\n",
       "<style scoped>\n",
       "    .dataframe tbody tr th:only-of-type {\n",
       "        vertical-align: middle;\n",
       "    }\n",
       "\n",
       "    .dataframe tbody tr th {\n",
       "        vertical-align: top;\n",
       "    }\n",
       "\n",
       "    .dataframe thead th {\n",
       "        text-align: right;\n",
       "    }\n",
       "</style>\n",
       "<table border=\"1\" class=\"dataframe\">\n",
       "  <thead>\n",
       "    <tr style=\"text-align: right;\">\n",
       "      <th></th>\n",
       "      <th>Title</th>\n",
       "      <th>Availability</th>\n",
       "      <th>Price Pounds</th>\n",
       "      <th>Price CAD</th>\n",
       "    </tr>\n",
       "  </thead>\n",
       "  <tbody>\n",
       "    <tr>\n",
       "      <th>0</th>\n",
       "      <td>Worlds Elsewhere: Journeys Around Shakespeare’...</td>\n",
       "      <td>In stock</td>\n",
       "      <td>£40.30</td>\n",
       "      <td>$68.91</td>\n",
       "    </tr>\n",
       "    <tr>\n",
       "      <th>1</th>\n",
       "      <td>The Five Love Languages: How to Express Heartf...</td>\n",
       "      <td>In stock</td>\n",
       "      <td>£31.05</td>\n",
       "      <td>$53.10</td>\n",
       "    </tr>\n",
       "    <tr>\n",
       "      <th>2</th>\n",
       "      <td>Reasons to Stay Alive</td>\n",
       "      <td>In stock</td>\n",
       "      <td>£26.41</td>\n",
       "      <td>$45.16</td>\n",
       "    </tr>\n",
       "    <tr>\n",
       "      <th>3</th>\n",
       "      <td>#HigherSelfie: Wake Up Your Life. Free Your So...</td>\n",
       "      <td>In stock</td>\n",
       "      <td>£23.11</td>\n",
       "      <td>$39.52</td>\n",
       "    </tr>\n",
       "    <tr>\n",
       "      <th>4</th>\n",
       "      <td>Unseen City: The Majesty of Pigeons, the Discr...</td>\n",
       "      <td>In stock</td>\n",
       "      <td>£44.18</td>\n",
       "      <td>$75.55</td>\n",
       "    </tr>\n",
       "    <tr>\n",
       "      <th>...</th>\n",
       "      <td>...</td>\n",
       "      <td>...</td>\n",
       "      <td>...</td>\n",
       "      <td>...</td>\n",
       "    </tr>\n",
       "    <tr>\n",
       "      <th>105</th>\n",
       "      <td>H is for Hawk</td>\n",
       "      <td>In stock</td>\n",
       "      <td>£57.42</td>\n",
       "      <td>$98.19</td>\n",
       "    </tr>\n",
       "    <tr>\n",
       "      <th>106</th>\n",
       "      <td>Travels with Charley: In Search of America</td>\n",
       "      <td>In stock</td>\n",
       "      <td>£57.82</td>\n",
       "      <td>$98.87</td>\n",
       "    </tr>\n",
       "    <tr>\n",
       "      <th>107</th>\n",
       "      <td>The Tumor</td>\n",
       "      <td>In stock</td>\n",
       "      <td>£41.56</td>\n",
       "      <td>$71.07</td>\n",
       "    </tr>\n",
       "    <tr>\n",
       "      <th>108</th>\n",
       "      <td>The End of the Jesus Era (An Investigation #1)</td>\n",
       "      <td>In stock</td>\n",
       "      <td>£14.40</td>\n",
       "      <td>$24.62</td>\n",
       "    </tr>\n",
       "    <tr>\n",
       "      <th>109</th>\n",
       "      <td>Eat, Pray, Love</td>\n",
       "      <td>In stock</td>\n",
       "      <td>£51.32</td>\n",
       "      <td>$87.76</td>\n",
       "    </tr>\n",
       "  </tbody>\n",
       "</table>\n",
       "<p>110 rows × 4 columns</p>\n",
       "</div>"
      ],
      "text/plain": [
       "                                                 Title Availability  \\\n",
       "0    Worlds Elsewhere: Journeys Around Shakespeare’...     In stock   \n",
       "1    The Five Love Languages: How to Express Heartf...     In stock   \n",
       "2                                Reasons to Stay Alive     In stock   \n",
       "3    #HigherSelfie: Wake Up Your Life. Free Your So...     In stock   \n",
       "4    Unseen City: The Majesty of Pigeons, the Discr...     In stock   \n",
       "..                                                 ...          ...   \n",
       "105                                      H is for Hawk     In stock   \n",
       "106         Travels with Charley: In Search of America     In stock   \n",
       "107                                          The Tumor     In stock   \n",
       "108     The End of the Jesus Era (An Investigation #1)     In stock   \n",
       "109                                    Eat, Pray, Love     In stock   \n",
       "\n",
       "    Price Pounds Price CAD  \n",
       "0         £40.30    $68.91  \n",
       "1         £31.05    $53.10  \n",
       "2         £26.41    $45.16  \n",
       "3         £23.11    $39.52  \n",
       "4         £44.18    $75.55  \n",
       "..           ...       ...  \n",
       "105       £57.42    $98.19  \n",
       "106       £57.82    $98.87  \n",
       "107       £41.56    $71.07  \n",
       "108       £14.40    $24.62  \n",
       "109       £51.32    $87.76  \n",
       "\n",
       "[110 rows x 4 columns]"
      ]
     },
     "execution_count": 15,
     "metadata": {},
     "output_type": "execute_result"
    }
   ],
   "source": [
    "#book_test = books_df.head().copy()\n",
    "column_pound = books_df['Price'].values\n",
    "\n",
    "del books_df['Price']\n",
    "books_df['Price Pounds'] = column_pound\n",
    "books_df['Price CAD'] = (books_df['Price Pounds'].replace('£','',\n",
    "                                                            regex=True).astype(float)*1.71).apply(lambda x: '{:.2f}'.format(x))\n",
    "books_df['Price CAD'] = '$' + books_df['Price CAD'].astype(str)\n",
    "\n",
    "books_df"
   ]
  },
  {
   "cell_type": "code",
   "execution_count": 16,
   "id": "1ae514f6",
   "metadata": {},
   "outputs": [
    {
     "name": "stdout",
     "output_type": "stream",
     "text": [
      "DataFrame has been successfully saved to newbooks.csv\n"
     ]
    }
   ],
   "source": [
    "new_file_path = 'newbooks.csv'\n",
    "books_df.to_csv(new_file_path, index=False)\n",
    "print(f'DataFrame has been successfully saved to {new_file_path}')\n"
   ]
  },
  {
   "cell_type": "code",
   "execution_count": 17,
   "id": "6e4ebb20",
   "metadata": {},
   "outputs": [
    {
     "name": "stdout",
     "output_type": "stream",
     "text": [
      "['Title', 'Availability', 'Price Pounds', 'Price CAD']\n"
     ]
    }
   ],
   "source": [
    "column_names = list(books_df.columns)\n",
    "print(column_names)\n"
   ]
  },
  {
   "cell_type": "code",
   "execution_count": 18,
   "id": "5f4e0f3c",
   "metadata": {},
   "outputs": [
    {
     "data": {
      "text/plain": [
       "Title           object\n",
       "Availability    object\n",
       "Price Pounds    object\n",
       "Price CAD       object\n",
       "dtype: object"
      ]
     },
     "execution_count": 18,
     "metadata": {},
     "output_type": "execute_result"
    }
   ],
   "source": [
    "books_df.dtypes"
   ]
  },
  {
   "cell_type": "code",
   "execution_count": 19,
   "id": "4d77663f",
   "metadata": {},
   "outputs": [
    {
     "data": {
      "text/plain": [
       "Title           object\n",
       "Availability    object\n",
       "Price Pounds    object\n",
       "Price CAD       object\n",
       "dtype: object"
      ]
     },
     "execution_count": 19,
     "metadata": {},
     "output_type": "execute_result"
    }
   ],
   "source": [
    "books_df.dtypes"
   ]
  },
  {
   "cell_type": "code",
   "execution_count": 12,
   "id": "2664f1e9",
   "metadata": {},
   "outputs": [
    {
     "data": {
      "text/html": [
       "<div>\n",
       "<style scoped>\n",
       "    .dataframe tbody tr th:only-of-type {\n",
       "        vertical-align: middle;\n",
       "    }\n",
       "\n",
       "    .dataframe tbody tr th {\n",
       "        vertical-align: top;\n",
       "    }\n",
       "\n",
       "    .dataframe thead th {\n",
       "        text-align: right;\n",
       "    }\n",
       "</style>\n",
       "<table border=\"1\" class=\"dataframe\">\n",
       "  <thead>\n",
       "    <tr style=\"text-align: right;\">\n",
       "      <th></th>\n",
       "      <th>Title</th>\n",
       "      <th>Availability</th>\n",
       "      <th>Price Pounds</th>\n",
       "      <th>Price CAD</th>\n",
       "    </tr>\n",
       "  </thead>\n",
       "  <tbody>\n",
       "    <tr>\n",
       "      <th>0</th>\n",
       "      <td>Worlds Elsewhere: Journeys Around Shakespeare’...</td>\n",
       "      <td>In stock</td>\n",
       "      <td>£40.30</td>\n",
       "      <td>$68.91</td>\n",
       "    </tr>\n",
       "    <tr>\n",
       "      <th>1</th>\n",
       "      <td>The Five Love Languages: How to Express Heartf...</td>\n",
       "      <td>In stock</td>\n",
       "      <td>£31.05</td>\n",
       "      <td>$53.10</td>\n",
       "    </tr>\n",
       "    <tr>\n",
       "      <th>2</th>\n",
       "      <td>Reasons to Stay Alive</td>\n",
       "      <td>In stock</td>\n",
       "      <td>£26.41</td>\n",
       "      <td>$45.16</td>\n",
       "    </tr>\n",
       "    <tr>\n",
       "      <th>3</th>\n",
       "      <td>#HigherSelfie: Wake Up Your Life. Free Your So...</td>\n",
       "      <td>In stock</td>\n",
       "      <td>£23.11</td>\n",
       "      <td>$39.52</td>\n",
       "    </tr>\n",
       "    <tr>\n",
       "      <th>4</th>\n",
       "      <td>Unseen City: The Majesty of Pigeons, the Discr...</td>\n",
       "      <td>In stock</td>\n",
       "      <td>£44.18</td>\n",
       "      <td>$75.55</td>\n",
       "    </tr>\n",
       "  </tbody>\n",
       "</table>\n",
       "</div>"
      ],
      "text/plain": [
       "                                               Title Availability  \\\n",
       "0  Worlds Elsewhere: Journeys Around Shakespeare’...     In stock   \n",
       "1  The Five Love Languages: How to Express Heartf...     In stock   \n",
       "2                              Reasons to Stay Alive     In stock   \n",
       "3  #HigherSelfie: Wake Up Your Life. Free Your So...     In stock   \n",
       "4  Unseen City: The Majesty of Pigeons, the Discr...     In stock   \n",
       "\n",
       "  Price Pounds Price CAD  \n",
       "0       £40.30    $68.91  \n",
       "1       £31.05    $53.10  \n",
       "2       £26.41    $45.16  \n",
       "3       £23.11    $39.52  \n",
       "4       £44.18    $75.55  "
      ]
     },
     "execution_count": 12,
     "metadata": {},
     "output_type": "execute_result"
    }
   ],
   "source": [
    "books_df.head()"
   ]
  },
  {
   "cell_type": "code",
   "execution_count": null,
   "id": "4cd609d4",
   "metadata": {},
   "outputs": [],
   "source": []
  }
 ],
 "metadata": {
  "kernelspec": {
   "display_name": "Python 3 (ipykernel)",
   "language": "python",
   "name": "python3"
  },
  "language_info": {
   "codemirror_mode": {
    "name": "ipython",
    "version": 3
   },
   "file_extension": ".py",
   "mimetype": "text/x-python",
   "name": "python",
   "nbconvert_exporter": "python",
   "pygments_lexer": "ipython3",
   "version": "3.11.4"
  }
 },
 "nbformat": 4,
 "nbformat_minor": 5
}
