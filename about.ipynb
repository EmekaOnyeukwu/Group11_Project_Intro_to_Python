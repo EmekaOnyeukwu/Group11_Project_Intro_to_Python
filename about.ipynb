{
 "cells": [
  {
   "cell_type": "markdown",
   "id": "59389768",
   "metadata": {},
   "source": [
    "/*<!-- templates/about.html -->*/\n",
    "<!DOCTYPE html>\n",
    "<html>\n",
    "\n",
    "<head>\n",
    "    <style>\n",
    "        /* Include any styles specific to the About page if needed */\n",
    "        body {\n",
    "            font-family: Arial, sans-serif;\n",
    "            margin: 20px;\n",
    "        }\n",
    "    </style>\n",
    "</head>\n",
    "\n",
    "<body>\n",
    "    <h1>About Us</h1>\n",
    "    <p>\n",
    "        Welcome to our Non Fictional book website! This website is dedicated to providing information about a curated collection of fine non-fictional books.\n",
    "        Explore the titles, check their availability, and find the prices in both Pounds and CAD. Happy reading!\n",
    "    </p>\n",
    "</body>\n",
    "</html>\n"
   ]
  }
 ],
 "metadata": {
  "kernelspec": {
   "display_name": "Python 3 (ipykernel)",
   "language": "python",
   "name": "python3"
  },
  "language_info": {
   "codemirror_mode": {
    "name": "ipython",
    "version": 3
   },
   "file_extension": ".py",
   "mimetype": "text/x-python",
   "name": "python",
   "nbconvert_exporter": "python",
   "pygments_lexer": "ipython3",
   "version": "3.11.4"
  }
 },
 "nbformat": 4,
 "nbformat_minor": 5
}
