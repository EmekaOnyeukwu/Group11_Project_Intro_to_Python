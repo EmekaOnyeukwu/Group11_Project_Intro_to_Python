{
 "cells": [
  {
   "cell_type": "code",
   "execution_count": 1,
   "id": "91c44ee6",
   "metadata": {},
   "outputs": [
    {
     "name": "stdout",
     "output_type": "stream",
     "text": [
      "Requirement already satisfied: db-sqlite3 in c:\\users\\user\\anaconda3\\lib\\site-packages (0.0.1)\n",
      "Requirement already satisfied: db in c:\\users\\user\\anaconda3\\lib\\site-packages (from db-sqlite3) (0.1.1)\n",
      "Requirement already satisfied: antiorm in c:\\users\\user\\anaconda3\\lib\\site-packages (from db->db-sqlite3) (1.2.1)\n"
     ]
    }
   ],
   "source": [
    "!pip install db-sqlite3\n"
   ]
  },
  {
   "cell_type": "code",
   "execution_count": 2,
   "id": "38d27313",
   "metadata": {},
   "outputs": [],
   "source": [
    "import sqlite3\n",
    "import csv\n",
    "import pandas as pd\n",
    "conn = sqlite3.connect('books.db')\n"
   ]
  },
  {
   "cell_type": "code",
   "execution_count": 6,
   "id": "a153324b",
   "metadata": {},
   "outputs": [
    {
     "data": {
      "text/plain": [
       "110"
      ]
     },
     "execution_count": 6,
     "metadata": {},
     "output_type": "execute_result"
    }
   ],
   "source": [
    "csv_file = 'newbooks.csv'\n",
    "df = pd.read_csv(csv_file)\n",
    "df.to_sql('books_table', conn, index=False, if_exists='replace')\n"
   ]
  },
  {
   "cell_type": "code",
   "execution_count": 7,
   "id": "b2584a03",
   "metadata": {},
   "outputs": [
    {
     "data": {
      "text/html": [
       "<div>\n",
       "<style scoped>\n",
       "    .dataframe tbody tr th:only-of-type {\n",
       "        vertical-align: middle;\n",
       "    }\n",
       "\n",
       "    .dataframe tbody tr th {\n",
       "        vertical-align: top;\n",
       "    }\n",
       "\n",
       "    .dataframe thead th {\n",
       "        text-align: right;\n",
       "    }\n",
       "</style>\n",
       "<table border=\"1\" class=\"dataframe\">\n",
       "  <thead>\n",
       "    <tr style=\"text-align: right;\">\n",
       "      <th></th>\n",
       "      <th>Title</th>\n",
       "      <th>Availability</th>\n",
       "      <th>Price Pounds</th>\n",
       "      <th>Price CAD</th>\n",
       "    </tr>\n",
       "  </thead>\n",
       "  <tbody>\n",
       "    <tr>\n",
       "      <th>0</th>\n",
       "      <td>Worlds Elsewhere: Journeys Around Shakespeare’...</td>\n",
       "      <td>In stock</td>\n",
       "      <td>£40.30</td>\n",
       "      <td>$68.91</td>\n",
       "    </tr>\n",
       "    <tr>\n",
       "      <th>1</th>\n",
       "      <td>The Five Love Languages: How to Express Heartf...</td>\n",
       "      <td>In stock</td>\n",
       "      <td>£31.05</td>\n",
       "      <td>$53.10</td>\n",
       "    </tr>\n",
       "    <tr>\n",
       "      <th>2</th>\n",
       "      <td>Reasons to Stay Alive</td>\n",
       "      <td>In stock</td>\n",
       "      <td>£26.41</td>\n",
       "      <td>$45.16</td>\n",
       "    </tr>\n",
       "    <tr>\n",
       "      <th>3</th>\n",
       "      <td>#HigherSelfie: Wake Up Your Life. Free Your So...</td>\n",
       "      <td>In stock</td>\n",
       "      <td>£23.11</td>\n",
       "      <td>$39.52</td>\n",
       "    </tr>\n",
       "    <tr>\n",
       "      <th>4</th>\n",
       "      <td>Unseen City: The Majesty of Pigeons, the Discr...</td>\n",
       "      <td>In stock</td>\n",
       "      <td>£44.18</td>\n",
       "      <td>$75.55</td>\n",
       "    </tr>\n",
       "  </tbody>\n",
       "</table>\n",
       "</div>"
      ],
      "text/plain": [
       "                                               Title Availability  \\\n",
       "0  Worlds Elsewhere: Journeys Around Shakespeare’...     In stock   \n",
       "1  The Five Love Languages: How to Express Heartf...     In stock   \n",
       "2                              Reasons to Stay Alive     In stock   \n",
       "3  #HigherSelfie: Wake Up Your Life. Free Your So...     In stock   \n",
       "4  Unseen City: The Majesty of Pigeons, the Discr...     In stock   \n",
       "\n",
       "  Price Pounds Price CAD  \n",
       "0       £40.30    $68.91  \n",
       "1       £31.05    $53.10  \n",
       "2       £26.41    $45.16  \n",
       "3       £23.11    $39.52  \n",
       "4       £44.18    $75.55  "
      ]
     },
     "execution_count": 7,
     "metadata": {},
     "output_type": "execute_result"
    }
   ],
   "source": [
    "pd.read_sql('SELECT * FROM books_table LIMIT 5', conn)\n"
   ]
  },
  {
   "cell_type": "code",
   "execution_count": null,
   "id": "8e770d82",
   "metadata": {},
   "outputs": [],
   "source": []
  },
  {
   "cell_type": "code",
   "execution_count": null,
   "id": "eeffd47a",
   "metadata": {},
   "outputs": [],
   "source": []
  }
 ],
 "metadata": {
  "kernelspec": {
   "display_name": "Python 3 (ipykernel)",
   "language": "python",
   "name": "python3"
  },
  "language_info": {
   "codemirror_mode": {
    "name": "ipython",
    "version": 3
   },
   "file_extension": ".py",
   "mimetype": "text/x-python",
   "name": "python",
   "nbconvert_exporter": "python",
   "pygments_lexer": "ipython3",
   "version": "3.11.4"
  }
 },
 "nbformat": 4,
 "nbformat_minor": 5
}
